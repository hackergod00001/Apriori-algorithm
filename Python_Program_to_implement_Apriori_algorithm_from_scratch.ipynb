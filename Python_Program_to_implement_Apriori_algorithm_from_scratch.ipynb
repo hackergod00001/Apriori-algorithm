{
  "nbformat": 4,
  "nbformat_minor": 0,
  "metadata": {
    "colab": {
      "name": "Python Program to implement Apriori algorithm from scratch.ipynb",
      "provenance": [],
      "authorship_tag": "ABX9TyMJA4ExYgDXwWXkrA4sZ1Ct",
      "include_colab_link": true
    },
    "kernelspec": {
      "name": "python3",
      "display_name": "Python 3"
    },
    "language_info": {
      "name": "python"
    }
  },
  "cells": [
    {
      "cell_type": "markdown",
      "metadata": {
        "id": "view-in-github",
        "colab_type": "text"
      },
      "source": [
        "<a href=\"https://colab.research.google.com/github/hackergod00001/Apriori-algorithm/blob/master/Python_Program_to_implement_Apriori_algorithm_from_scratch.ipynb\" target=\"_parent\"><img src=\"https://colab.research.google.com/assets/colab-badge.svg\" alt=\"Open In Colab\"/></a>"
      ]
    },
    {
      "cell_type": "markdown",
      "metadata": {
        "id": "pzTueRBNbQM_"
      },
      "source": [
        "### **Python Code of Apriori Algorithm from Scratch.**"
      ]
    },
    {
      "cell_type": "markdown",
      "metadata": {
        "id": "65DJsuUbb5t6"
      },
      "source": [
        "# What does Apriori algorithm do"
      ]
    },
    {
      "cell_type": "markdown",
      "metadata": {
        "id": "bAImwX_KcTxD"
      },
      "source": [
        ""
      ]
    },
    {
      "cell_type": "code",
      "metadata": {
        "id": "L_xAgtILRv5u"
      },
      "source": [
        "# -*- coding: utf-8 -*-\n",
        "\"\"\"\n",
        "Created on Mon Sep 10 13:57:50 2021\n",
        "\n",
        "@author: maste\n",
        "\"\"\"\n",
        "\n",
        "import csv\n",
        "from itertools import combinations"
      ],
      "execution_count": 9,
      "outputs": []
    },
    {
      "cell_type": "code",
      "metadata": {
        "id": "CdHDUGZDR08X"
      },
      "source": [
        "\n",
        "def read_data(file_loc='GroceryStoreDataSet.csv'):\n",
        "    trans = dict()\n",
        "    with open(file_loc) as f:\n",
        "        filedata = csv.reader(f, delimiter=',')\n",
        "        count = 0\n",
        "        for line in filedata:\n",
        "            count += 1\n",
        "            trans[count] = list(set(line))\n",
        "    return trans\n",
        "    "
      ],
      "execution_count": 10,
      "outputs": []
    },
    {
      "cell_type": "code",
      "metadata": {
        "id": "YIDQ-R6xUuUX"
      },
      "source": [
        "def frequence(items_lst, trans, check=False):\n",
        "    items_counts = dict()\n",
        "    for i in items_lst:\n",
        "        temp_i = {i}\n",
        "        if check:\n",
        "            temp_i = set(i)\n",
        "        for j in trans.items():\n",
        "            if temp_i.issubset(set(j[1])):\n",
        "                if i in items_counts:\n",
        "                    items_counts[i] += 1\n",
        "                else:\n",
        "                    items_counts[i] = 1\n",
        "    return items_counts\n",
        "    "
      ],
      "execution_count": 12,
      "outputs": []
    },
    {
      "cell_type": "code",
      "metadata": {
        "id": "lAgLbk78U08U"
      },
      "source": [
        "def support(items_counts, trans):\n",
        "    support = dict()\n",
        "    total_trans = len(trans)\n",
        "    for i in items_counts:\n",
        "        support[i] = items_counts[i]/total_trans\n",
        "    return support\n",
        "    "
      ],
      "execution_count": 13,
      "outputs": []
    },
    {
      "cell_type": "code",
      "metadata": {
        "id": "2P6kbIAKU12Q"
      },
      "source": [
        "\n",
        "def association_rules(items_grater_then_min_support):\n",
        "    rules = []\n",
        "    dict_rules = {}\n",
        "    for i in items_grater_then_min_support:\n",
        "        dict_rules = {}\n",
        "        if type(i) != type(str()):\n",
        "            i = list(i)\n",
        "            temp_i = i[:]\n",
        "            for j in range(len(i)):\n",
        "                k = temp_i[j]\n",
        "                del temp_i[j]\n",
        "                dict_rules[k] = temp_i\n",
        "                temp_i = i[:]\n",
        "        rules.append(dict_rules)\n",
        "    temp = []\n",
        "    for i in rules:\n",
        "        for j in i.items():\n",
        "            if type(j[1]) != type(str()):\n",
        "                temp.append({tuple(j[1])[0]: j[0]})\n",
        "            else:\n",
        "                temp.append({j[1]: j[0]})\n",
        "    rules.extend(temp)\n",
        "    return rules\n"
      ],
      "execution_count": 14,
      "outputs": []
    },
    {
      "cell_type": "code",
      "metadata": {
        "id": "AvXzcmQdU49z"
      },
      "source": [
        "\n",
        "def confidence(associations, d, min_confidence):\n",
        "    ans = {}\n",
        "    for i in associations:\n",
        "        for j in i.items():\n",
        "            if type(j[0]) == type(str()):\n",
        "                left = {j[0]}\n",
        "            else:\n",
        "                left = set(j[0])\n",
        "            if type(j[1]) == type(str()):\n",
        "                right = {j[1]}\n",
        "            else:\n",
        "                right = set(j[1])\n",
        "            for k in d:\n",
        "                if type(k) != type(str()):\n",
        "                    if left.union(right) - set(k) == set():\n",
        "                        up = d[k]\n",
        "                    if len(right) == len(set(k)) and right - set(k) == set():\n",
        "                            down = d[k]\n",
        "                else:\n",
        "                    if len(right) >= len({k}):\n",
        "                        if right - {k} == set():\n",
        "                            down = d[k]\n",
        "                    elif len(right) <= len({k}):\n",
        "                        if {k} - right == set():\n",
        "                            down = d[k]\n",
        "            if up/down >= min_confidence:\n",
        "                ans[tuple(left)[0]] = right, up/down, up, down\n",
        "    print(ans)    \n",
        "\n"
      ],
      "execution_count": 15,
      "outputs": []
    },
    {
      "cell_type": "code",
      "metadata": {
        "colab": {
          "base_uri": "https://localhost:8080/"
        },
        "id": "9imDd1JWU7uu",
        "outputId": "367056ca-bbbb-4af2-8044-48b100e23d18"
      },
      "source": [
        "\n",
        "def main(min_support, min_confidence, file_loc):\n",
        "    \n",
        "    trans = read_data()\n",
        "    number_of_trans = [len(i) for i in trans.values()]\n",
        "    items_lst = set()\n",
        "    \n",
        "    itemcount_track = list()    \n",
        "    \n",
        "    for i in trans.values():\n",
        "        for j in i:\n",
        "            items_lst.add(j)\n",
        "    \n",
        "    store_item_lst = list(items_lst)[:]\n",
        "    items_grater_then_min_support = list()\n",
        "    items_counts = frequence(items_lst, trans)\n",
        "    itemcount_track.append(items_counts)\n",
        "    items_grater_then_min_support.append({j[0]:j[1] for j in support(items_counts, trans).items() if j[1]>min_support})\n",
        "    \n",
        "    for i in range(2, max(number_of_trans)+1):\n",
        "        item_list = combinations(items_lst, i)\n",
        "        items_counts = frequence(item_list, trans, check=True)\n",
        "        itemcount_track.append(items_counts)\n",
        "        if list({j[0]:j[1] for j in support(items_counts, trans).items() if j[1]>min_support}.keys()) != []:\n",
        "            items_grater_then_min_support.append({j[0]:j[1] for j in support(items_counts, trans).items() if j[1]>min_support})\n",
        "        \n",
        "    d = {}\n",
        "    {d.update(i) for i in itemcount_track}\n",
        "    associations = association_rules(items_grater_then_min_support[len(items_grater_then_min_support)-1])\n",
        "    associations_grater_then_confidene = confidence(associations, d, min_confidence)\n",
        "    \n",
        "    \n",
        "\n",
        "main(0.01, 0.7, 'GroceryStoreDataSet.csv')\n"
      ],
      "execution_count": 16,
      "outputs": [
        {
          "output_type": "stream",
          "name": "stdout",
          "text": [
            "{}\n"
          ]
        }
      ]
    }
  ]
}